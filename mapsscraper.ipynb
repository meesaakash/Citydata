{
 "cells": [
  {
   "cell_type": "code",
   "execution_count": 1,
   "id": "0934c47e-a073-4f5d-8328-d97fcd942de7",
   "metadata": {},
   "outputs": [],
   "source": [
    "# # test chromedriver\n",
    "# import time\n",
    "\n",
    "# from selenium import webdriver\n",
    "\n",
    "\n",
    "\n",
    "# driver = webdriver.Chrome()  # Optional argument, if not specified will search path.\n",
    "\n",
    "# driver.get('http://www.google.com/');\n",
    "\n",
    "# time.sleep(5) # Let the user actually see something!\n",
    "\n",
    "# search_box = driver.find_element_by_name('q')\n",
    "\n",
    "# search_box.send_keys('ChromeDriver')\n",
    "\n",
    "# search_box.submit()\n",
    "\n",
    "# time.sleep(5) # Let the user actually see something!\n",
    "\n",
    "# driver.quit()"
   ]
  },
  {
   "cell_type": "code",
   "execution_count": 2,
   "id": "0e7d877e-fe61-4064-bca9-6f5a8c8b639b",
   "metadata": {},
   "outputs": [],
   "source": [
    "from googlemaps import GoogleMapsScraper\n",
    "from datetime import datetime, timedelta\n",
    "import argparse\n",
    "import csv\n",
    "from termcolor import colored\n",
    "import time\n",
    "\n",
    "ind = {'most_relevant' : 0, 'newest': 1, 'highest_rating': 2, 'lowest_rating': 3}\n",
    "HEADER = ['id_review','caption','relative_date','retrieval_date','rating','username','n_review_user','n_photo_user','url_user']\n",
    "HEADER_W_SOURCE=['id_review','caption','relative_date','retrieval_date','rating','username','n_review_user','n_photo_user','n_photo_user','url_user','url_source']\n",
    "\n",
    "def csv_writer(source_field, ind_sort_by, path='data/'):\n",
    "    outfile= ind_sort_by + '_gm_reviews.csv'\n",
    "    targetfile = open(path+outfile, mode='w', encoding='utf-8',newline='\\n')\n",
    "    writer=csv.writer(targetfile,quoting=csv.QUOTE_MINIMAL)\n",
    "\n",
    "    if source_field:\n",
    "        h= HEADER_W_SOURCE\n",
    "    else:\n",
    "        h = HEADER\n",
    "    writer.writerow(h)\n",
    "    return writer"
   ]
  },
  {
   "cell_type": "code",
   "execution_count": 3,
   "id": "4719ea45-68ef-420a-9865-200e3e623d7a",
   "metadata": {},
   "outputs": [
    {
     "data": {
      "text/plain": [
       "2"
      ]
     },
     "execution_count": 3,
     "metadata": {},
     "output_type": "execute_result"
    }
   ],
   "source": [
    "ind['highest_rating']"
   ]
  },
  {
   "cell_type": "code",
   "execution_count": 4,
   "id": "4e1bb5e7-a5a9-4633-aeca-c58f23e5fa37",
   "metadata": {},
   "outputs": [
    {
     "data": {
      "text/plain": [
       "['id_review',\n",
       " 'caption',\n",
       " 'relative_date',\n",
       " 'retrieval_date',\n",
       " 'rating',\n",
       " 'username',\n",
       " 'n_review_user',\n",
       " 'n_photo_user',\n",
       " 'url_user']"
      ]
     },
     "execution_count": 4,
     "metadata": {},
     "output_type": "execute_result"
    }
   ],
   "source": [
    "path = '/Users/akashmeesa/desktop/citydata'\n",
    "var_to_see_metadata= False\n",
    "num_args = 20\n",
    "want_source = False\n",
    "sort_by= 'highest_rating'\n",
    "\n",
    "def scrape(filename):\n",
    "\n",
    "    writer = csv_writer(want_source, sort_by)\n",
    "    \n",
    "    with GoogleMapsScraper() as scraper:\n",
    "        with open(filename,'r') as urls_file:\n",
    "            for url in urls_file:\n",
    "                # add way to check if place is false if i want metadata instead of reviews, probably want this. \n",
    "                if var_to_see_metadata==True:\n",
    "                    print(scraper.get_account(url))\n",
    "                else:\n",
    "                    print(scraper.get_account(url))\n",
    "                    error = scraper.sort_by(url, ind[sort_by])\n",
    "                    if error == 0:\n",
    "                        n = 0\n",
    "                        while n< num_args:\n",
    "                            print('[Review ' + str(n) + ']')\n",
    "                            reviews = scraper.get_reviews(n)\n",
    "                            if len(reviews)==0:\n",
    "                                print('len reviews is 0')\n",
    "                                break\n",
    "                            for r in reviews:\n",
    "                                row_data = list(r.values)\n",
    "                                if want_source:\n",
    "                                    row_data.append(url[:-1])\n",
    "                                writer.writerow(row_data)\n",
    "                        n += len(reviews)\n",
    "    return \"done\"\n",
    "                                \n",
    "HEADER\n",
    "                "
   ]
  },
  {
   "cell_type": "code",
   "execution_count": 5,
   "id": "b2dc9902-4fcc-4d95-a768-ea450a7c78ad",
   "metadata": {},
   "outputs": [
    {
     "name": "stdout",
     "output_type": "stream",
     "text": [
      "{'name': 'Empanada Mama Hell’s Kitchen', 'overall_rating': None, 'n_reviews': 0, 'n_photos': 1720, 'category': 'Latin American restaurant', 'description': 'Stuffed empanadas & arepas top a menu of Latin goodies like plantain chips & guacamole served 24/7.', 'address': None, 'website': None, 'phone_number': None, 'plus_code': None, 'opening_hours': None, 'url': 'https://www.google.com/maps/place/Empanada+Mama+Hell%E2%80%99s+Kitchen/@40.764917,-73.9897431,16.57z/data=!4m6!3m5!1s0x89c25857378598b1:0xe9063cb16f91db4!8m2!3d40.764437!4d-73.9885436!16s%2Fg%2F1vfp93gy?entry=ttu', 'lat': '40.764917', 'long': '-73.9897431'}\n",
      "[Review 0]\n",
      "len reviews is 0\n"
     ]
    },
    {
     "data": {
      "text/plain": [
       "'done'"
      ]
     },
     "execution_count": 5,
     "metadata": {},
     "output_type": "execute_result"
    }
   ],
   "source": [
    "ret = scrape('urls.txt')\n",
    "ret"
   ]
  },
  {
   "cell_type": "code",
   "execution_count": null,
   "id": "35aa88eb-39ec-4e91-809b-b61d3863604d",
   "metadata": {},
   "outputs": [],
   "source": []
  }
 ],
 "metadata": {
  "kernelspec": {
   "display_name": "Python 3 (ipykernel)",
   "language": "python",
   "name": "python3"
  },
  "language_info": {
   "codemirror_mode": {
    "name": "ipython",
    "version": 3
   },
   "file_extension": ".py",
   "mimetype": "text/x-python",
   "name": "python",
   "nbconvert_exporter": "python",
   "pygments_lexer": "ipython3",
   "version": "3.11.5"
  }
 },
 "nbformat": 4,
 "nbformat_minor": 5
}

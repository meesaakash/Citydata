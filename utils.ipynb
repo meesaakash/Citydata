{
 "cells": [
  {
   "cell_type": "code",
   "execution_count": null,
   "id": "af50ae3a-3e1f-4976-ae05-558c854ff198",
   "metadata": {},
   "outputs": [],
   "source": [
    "import streamlit as st\n",
    "import numpy as np\n",
    "import pandas as pd\n",
    "import plotly.express as px\n",
    "from plotly.subplots import make_subplots\n",
    "import json\n",
    "\n",
    "def plot_result(top_topics,scores):\n",
    "    top_topics = np.array(top_topics)\n",
    "    scores = np.array(scores)\n",
    "    scores *= 100\n"
   ]
  }
 ],
 "metadata": {
  "kernelspec": {
   "display_name": "Python 3 (ipykernel)",
   "language": "python",
   "name": "python3"
  },
  "language_info": {
   "codemirror_mode": {
    "name": "ipython",
    "version": 3
   },
   "file_extension": ".py",
   "mimetype": "text/x-python",
   "name": "python",
   "nbconvert_exporter": "python",
   "pygments_lexer": "ipython3",
   "version": "3.11.5"
  }
 },
 "nbformat": 4,
 "nbformat_minor": 5
}
